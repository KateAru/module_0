{
 "cells": [
  {
   "cell_type": "code",
   "execution_count": 1,
   "metadata": {},
   "outputs": [
    {
     "name": "stdout",
     "output_type": "stream",
     "text": [
      "Ваш алгоритм угадывает число в среднем за 5 попыток\n"
     ]
    },
    {
     "data": {
      "text/plain": [
       "5"
      ]
     },
     "execution_count": 1,
     "metadata": {},
     "output_type": "execute_result"
    }
   ],
   "source": [
    "#Importing numpy library for random numbers generation\n",
    "import numpy as np\n",
    "\n",
    "#Defining function score_game to calculate the mean number of tries, copied from the lecture\n",
    "def score_game(game_core):\n",
    "    '''Запускаем игру 1000 раз, чтобы узнать, как быстро игра угадывает число'''\n",
    "    count_ls = []\n",
    "    np.random.seed(1)  # фиксируем RANDOM SEED, чтобы ваш эксперимент был воспроизводим!\n",
    "    random_array = np.random.randint(1,101, size=(1000))\n",
    "    for number in random_array:\n",
    "        count_ls.append(game_core(number))\n",
    "    score = int(np.mean(count_ls))\n",
    "    print(f\"Ваш алгоритм угадывает число в среднем за {score} попыток\")\n",
    "    return(score)\n",
    "\n",
    "#Function binary_search completes the search of a randomly generated number \"guess\"\n",
    "def binary_search(guess):\n",
    "    '''Generating an ordered list in the range between 0 and 100'''\n",
    "    sequence=[]\n",
    "    for i in range(0,101):\n",
    "        sequence.append(i)\n",
    "    \n",
    "    '''Creating variables'''\n",
    "    begin_index = 0\n",
    "    end_index = len(sequence)-1\n",
    "    count = 0\n",
    "    \n",
    "    '''Checking if the randomly generated number is in the list \"sequence\", and if yes, \n",
    "    calculating how many tries this function needs to guess this number\n",
    "    '''\n",
    "    while begin_index <= end_index:\n",
    "        count += 1\n",
    "        midpoint = (begin_index + end_index) // 2 #finding midpoint of the list\n",
    "        midpoint_value = sequence[midpoint]\n",
    "        \n",
    "        if midpoint_value == guess:\n",
    "            return count #when found the number we were looking for returning the number of tries\n",
    "\n",
    "        elif midpoint_value < guess:\n",
    "            begin_index = midpoint + 1\n",
    "        else:\n",
    "            end_index = midpoint - 1\n",
    "\n",
    "    return None\n",
    " \n",
    "\n",
    "guess = np.random.randint(1,101) #generating random number\n",
    "\n",
    "'''Separate call for function \"binary_search\", needed during testing stage\n",
    "\n",
    "guess = 75\n",
    "if binary_search(guess):\n",
    "    print('Найдено за {} попыток, искомое число {}'.format(binary_search(guess),guess))\n",
    "else:\n",
    "    print(\"Не найдено\")\n",
    "''' \n",
    "\n",
    "score_game(binary_search) #calling function score_game "
   ]
  },
  {
   "cell_type": "code",
   "execution_count": null,
   "metadata": {},
   "outputs": [],
   "source": []
  }
 ],
 "metadata": {
  "kernelspec": {
   "display_name": "Python 3",
   "language": "python",
   "name": "python3"
  },
  "language_info": {
   "codemirror_mode": {
    "name": "ipython",
    "version": 3
   },
   "file_extension": ".py",
   "mimetype": "text/x-python",
   "name": "python",
   "nbconvert_exporter": "python",
   "pygments_lexer": "ipython3",
   "version": "3.8.3"
  }
 },
 "nbformat": 4,
 "nbformat_minor": 4
}
